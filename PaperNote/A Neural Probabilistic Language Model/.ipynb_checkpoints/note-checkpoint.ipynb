{
 "cells": [
  {
   "cell_type": "markdown",
   "metadata": {},
   "source": [
    "\n",
    "<h1>A Neural Probabilistic Language Model</h1>\n",
    "\n",
    "# The Mean Idea\n",
    "\n",
    ">This paper give a way to deal with the **curse of dimensionality**, that make a **Mapping Matrix $C$** ,which is $|V| \\times m$. Here $m$ is dimension of feature vector.\n",
    "\n",
    ">In this paper, rather common way to compute the probility of time series probility with all $n$ element, here we just take latest $n$ element into consideration, which called **n-gram**, so we get this equation:\n",
    ">\n",
    "$$\\begin{aligned}\n",
    "P(w_1^T) &= \\prod_{t=0}^T P(w_t|w_1^{t-1}) \\\\\n",
    "\\\\\n",
    "P(w_t | w_1^{t-1}) &\\approx P(w_t|w_{t-n+1}^{t-1})\n",
    "\\end{aligned}$$\n",
    "\n",
    "The neural architecture show as fig:\n",
    "\n",
    "![](TIM截图20180406172529.png)\n",
    "\n",
    ">Here we use **Maximizes log-likelihood**, and take nagetive of this as loss function:\n",
    "\n",
    "$$L = \\frac1T \\sum_t{\\log{f(w_t,w_{t-1},w_{t-2,...,w_{t-n+1}};\\theta)}} + R(\\theta)$$\n",
    "\n",
    ">And use **softmax** at ouput layer\n",
    "\n",
    "$$ P(w_t|w_{t-1},...,w_{t-n+1}) = \\frac{e^{y_{w_t}}}{\\sum_i{e^{y_i}}} $$\n",
    "\n",
    "$$ y = b + Wx + U \\tanh(d + Hx) $$\n",
    "\n",
    "> where $x$ is Concat of latest $n-1$ elements,its shape is $|V| \\times (n-1)m$\n",
    "\n",
    "$$ x= ( C(w_{t-1}), C(w_{t-2}), ... , C(w_{t-n+1}) )$$\n",
    "\n",
    "**Notations**:\n",
    "\n",
    "| Notation | Mean | Shape | \n",
    "| - | :-: | -: | \n",
    "| $b$ | output bias | $V$ | \n",
    "| $W$ | optionally zero (no direct connections) | $V \\times (n-1)m$ | \n",
    "| $U$ | hidden-to-output weights | $V \\times h$ | \n",
    "| $d$ | hidden bias | $h$ | \n",
    "| $H$ | hidden layer weights | $h \\times (n-1)m$ | \n",
    "\n",
    ">use **SGD** neural net update rule:\n",
    "\n",
    "$$ \\theta \\gets \\theta + \\epsilon \\frac{\\partial L}{\\partial \\theta} $$ \n",
    "\n",
    "the **foward & backprop** detail show as next figs:\n",
    "\n",
    "![](TIM截图20180406172550.png)\n",
    "\n",
    "![](TIM截图20180406172605.png)\n",
    "\n",
    "# The Result\n",
    "\n",
    "![](TIM截图20180406172948.png)\n",
    "\n"
   ]
  },
  {
   "cell_type": "code",
   "execution_count": null,
   "metadata": {
    "collapsed": true
   },
   "outputs": [],
   "source": []
  }
 ],
 "metadata": {
  "kernelspec": {
   "display_name": "Python 3",
   "language": "python",
   "name": "python3"
  },
  "language_info": {
   "codemirror_mode": {
    "name": "ipython",
    "version": 3
   },
   "file_extension": ".py",
   "mimetype": "text/x-python",
   "name": "python",
   "nbconvert_exporter": "python",
   "pygments_lexer": "ipython3",
   "version": "3.6.2"
  }
 },
 "nbformat": 4,
 "nbformat_minor": 2
}
