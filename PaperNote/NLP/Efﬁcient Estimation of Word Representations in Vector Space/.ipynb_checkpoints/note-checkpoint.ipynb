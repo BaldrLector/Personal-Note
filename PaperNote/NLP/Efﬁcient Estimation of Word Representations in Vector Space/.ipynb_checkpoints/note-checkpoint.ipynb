{
 "cells": [
  {
   "cell_type": "markdown",
   "metadata": {},
   "source": [
    "# Attention Model\n",
    "> Neural Machine Translation by Jointly Learning to Align and Translate\n",
    "\n",
    ">Paper link: [Neural Machine Translation by Jointly Learning to Align and Translate](https://arxiv.org/abs/1409.0473)\n",
    "\n",
    "\n",
    "## The Probelm\n",
    "\n",
    "### encoder-decoder's issue\n",
    "\n",
    ">Let neural netword **comporess** all necessary information  of souce sentence into a **fixed-length vector** could be difficult.\n",
    "\n",
    "### Solution\n",
    "\n",
    "> Let model learns to align and translate jointly\n",
    ">\n",
    ">Basic encoder-decoder does **not** encode whole input sentence, rather to choose a **subset**. \n",
    ">\n",
    "\n",
    "## Background\n",
    "\n",
    "### About Translation\n",
    "\n",
    "> From the view of **probability**, Translation task is to find a target sentence $\\bm Y$ given input sentence $\\bm X$ with maximized condition probability $\\arg \\max_{Y} P(Y|X)$\n",
    "\n",
    "\n",
    "### RNN encoder-decoder\n",
    "\n",
    "#### framework\n",
    "\n",
    ">$$\\begin{aligned}\n",
    "h_t &= f(x_t,h_{t-1}) \\\\\n",
    "c &= q({h_1,...h_{T_x}})\\\\\n",
    "\\end{aligned}$$\n",
    ">\n",
    ">where $h_t$ is hidden state at time $t$, $c$ is vector generated from sequence of the hidden states.\n",
    ">\n",
    ">$$P(y) = \\prod_{t=1}^T P(y_t |y_1,...y_{t-1},c) $$\n",
    "$$ y = (y_1,...,y_{T_y}) $$\n",
    "$$P(y_t |y_1,...y_{t-1},c) = g(y_{t-1},s_t,c)$$\n",
    "\n",
    "### Learning to align and translate\n",
    "\n",
    "#### Decoder\n",
    "\n",
    "![fig 1](./pics/TIM截图20180422153458.png)\n",
    "\n",
    "\n",
    ">$$\\begin{aligned}\n",
    "P(y_t |y_1,...y_{t-1},c) &= g(y_{t-1},s_t,c) \\\\ \n",
    "s_i &= f(s_{i-1},y_{i-1},c_) \\\\ \n",
    "c_i &= \\sum_{j=1}^{T_x} \\alpha_{ij}h_j\\\\\n",
    "\\alpha_{ij} &= \\frac{\\exp(e_{ij})}{\\sum_{k=1}{T_x}{\\exp(e_{ik})}} \\\\ \n",
    "e_{ij} &= \\alpha(s_{i-1},h_j)\n",
    "\\end{aligned}$$\n",
    ">\n",
    ">here the probability is **conditioned** on a distinct context vector $c_i$ for each target word $y_i$\n",
    "\n",
    "#### Encoder\n",
    ">This part take **BiRNN**\n",
    "\n",
    "## Experiment\n",
    "\n",
    "![](./pics/TIM截图20180422163526.png)"
   ]
  },
  {
   "cell_type": "code",
   "execution_count": null,
   "metadata": {
    "collapsed": true
   },
   "outputs": [],
   "source": []
  }
 ],
 "metadata": {
  "kernelspec": {
   "display_name": "Python 3",
   "language": "python",
   "name": "python3"
  },
  "language_info": {
   "codemirror_mode": {
    "name": "ipython",
    "version": 3
   },
   "file_extension": ".py",
   "mimetype": "text/x-python",
   "name": "python",
   "nbconvert_exporter": "python",
   "pygments_lexer": "ipython3",
   "version": "3.6.2"
  }
 },
 "nbformat": 4,
 "nbformat_minor": 2
}
